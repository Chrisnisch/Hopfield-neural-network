{
 "cells": [
  {
   "metadata": {
    "ExecuteTime": {
     "end_time": "2025-04-16T15:16:14.240612Z",
     "start_time": "2025-04-16T15:16:14.237600Z"
    }
   },
   "cell_type": "code",
   "source": [
    "import idx2numpy\n",
    "import numpy as np\n",
    "\n",
    "import torch\n",
    "\n",
    "import matplotlib.pyplot as plt\n",
    "import seaborn as sns"
   ],
   "id": "ddeb1181931452ef",
   "outputs": [],
   "execution_count": 548
  },
  {
   "metadata": {
    "ExecuteTime": {
     "end_time": "2025-04-16T15:16:14.541779Z",
     "start_time": "2025-04-16T15:16:14.267619Z"
    }
   },
   "cell_type": "code",
   "source": [
    "x_train = np.array(idx2numpy.convert_from_file('./data/emnist/emnist-letters-train-images-idx3-ubyte')).astype('float32')\n",
    "y_train = np.array(idx2numpy.convert_from_file('./data/emnist/emnist-letters-train-labels-idx1-ubyte'))\n",
    "\n",
    "x_test = np.array(idx2numpy.convert_from_file('./data/emnist/emnist-letters-test-images-idx3-ubyte')).astype('float32')\n",
    "y_test = np.array(idx2numpy.convert_from_file('./data/emnist/emnist-letters-test-labels-idx1-ubyte'))\n",
    "\n",
    "x_train /= 255\n",
    "x_test /= 255\n",
    "\n",
    "x_train = np.fliplr(x_train)\n",
    "x_test = np.fliplr(x_test)\n",
    "\n",
    "x_train = np.rot90(x_train, k=3, axes=(1, 2))\n",
    "x_test = np.rot90(x_test, k=3, axes=(1, 2))\n",
    "\n",
    "x_train = x_train.reshape(x_train.shape[0], 784)\n",
    "x_test = x_test.reshape(x_test.shape[0], 784)\n",
    "\n",
    "y_train -= 1\n",
    "y_test -= 1\n",
    "\n",
    "with open('data/emnist/emnist-letters-mapping.txt', 'r') as mapping_file:\n",
    "    idx = {}\n",
    "    for line in mapping_file.readlines():\n",
    "        items = line.split()\n",
    "        idx[int(items[0])-1] = chr(int(items[1]))\n",
    "\n",
    "train_images = torch.tensor(x_train, dtype=torch.float32)\n",
    "# train_labels = torch.tensor(y_train, dtype=torch.float32)\n",
    "test_images = torch.tensor(x_test, dtype=torch.float32)\n",
    "# test_labels = torch.tensor(y_test, dtype=torch.float32)"
   ],
   "id": "ede11324f29a71d2",
   "outputs": [],
   "execution_count": 549
  },
  {
   "metadata": {
    "ExecuteTime": {
     "end_time": "2025-04-16T15:16:14.547989Z",
     "start_time": "2025-04-16T15:16:14.544784Z"
    }
   },
   "cell_type": "code",
   "source": [
    "def plot_pattern(pattern: torch.Tensor, title: str, ax, size):\n",
    "    img = pattern.view(size, size).numpy()\n",
    "    ax.imshow(img, cmap='gray')\n",
    "    ax.set_title(title)\n",
    "    ax.axis('off')"
   ],
   "id": "3dcaf1b24d62281b",
   "outputs": [],
   "execution_count": 550
  },
  {
   "metadata": {
    "ExecuteTime": {
     "end_time": "2025-04-16T15:16:14.657734Z",
     "start_time": "2025-04-16T15:16:14.572281Z"
    }
   },
   "cell_type": "code",
   "source": [
    "fig, axs = plt.subplots(1, 3, figsize=(9, 3))\n",
    "plot_pattern(train_images[0], 'first', axs[0], 28)\n",
    "plot_pattern(train_images[1], 'second', axs[1], 28)\n",
    "plot_pattern(train_images[2], 'third', axs[2], 28)\n",
    "plt.tight_layout()\n",
    "plt.show()"
   ],
   "id": "87d4ac6bb0260317",
   "outputs": [
    {
     "data": {
      "text/plain": [
       "<Figure size 900x300 with 3 Axes>"
      ],
      "image/png": "[encoded data removed]"
     },
     "metadata": {},
     "output_type": "display_data"
    }
   ],
   "execution_count": 551
  },
  {
   "metadata": {
    "ExecuteTime": {
     "end_time": "2025-04-16T15:16:14.767156Z",
     "start_time": "2025-04-16T15:16:14.700366Z"
    }
   },
   "cell_type": "code",
   "source": [
    "train_images = torch.where(train_images > 0.5, 1, -1)\n",
    "test_images = torch.where(test_images > 0.5, 1, -1)"
   ],
   "id": "64cc1132a1edb0ff",
   "outputs": [],
   "execution_count": 552
  },
  {
   "metadata": {
    "ExecuteTime": {
     "end_time": "2025-04-16T15:16:14.850688Z",
     "start_time": "2025-04-16T15:16:14.770672Z"
    }
   },
   "cell_type": "code",
   "source": [
    "fig, axs = plt.subplots(1, 3, figsize=(9, 3))\n",
    "plot_pattern(train_images[0], 'first', axs[0], 28)\n",
    "plot_pattern(train_images[1], 'second', axs[1], 28)\n",
    "plot_pattern(train_images[2], 'third', axs[2], 28)\n",
    "plt.tight_layout()\n",
    "plt.show()"
   ],
   "id": "e6434ec7515278d9",
   "outputs": [
    {
     "data": {
      "text/plain": [
       "<Figure size 900x300 with 3 Axes>"
      ],
      "image/png": "[encoded data removed]"
     },
     "metadata": {},
     "output_type": "display_data"
    }
   ],
   "execution_count": 553
  },
  {
   "metadata": {
    "ExecuteTime": {
     "end_time": "2025-04-16T15:16:14.874823Z",
     "start_time": "2025-04-16T15:16:14.870447Z"
    }
   },
   "cell_type": "code",
   "source": [
    "import torch\n",
    "\n",
    "class HopfieldNet(torch.nn.Module):\n",
    "    def __init__(self, size):\n",
    "        super().__init__()\n",
    "        self.size = size\n",
    "        self.weights = torch.zeros(size, size)\n",
    "\n",
    "    def train_patterns(self, patterns: torch.Tensor):\n",
    "        self.weights.zero_()\n",
    "        for p in patterns:\n",
    "            self.weights += torch.outer(p, p)\n",
    "        self.weights.fill_diagonal_(0)  # без самосвязей\n",
    "        self.weights /= len(patterns)\n",
    "\n",
    "    def sign(self, x):\n",
    "        return torch.where(x >= 0, 1, -1)\n",
    "\n",
    "    def recall(self, input_pattern: torch.Tensor, steps=5):\n",
    "        state = input_pattern.clone()\n",
    "        for _ in range(steps):\n",
    "            for i in range(self.size):\n",
    "                h = torch.dot(self.weights[i].float(), state.float())\n",
    "                state[i] = self.sign(h)\n",
    "        return state"
   ],
   "id": "643bbf1aad6a61d",
   "outputs": [],
   "execution_count": 554
  },
  {
   "metadata": {
    "ExecuteTime": {
     "end_time": "2025-04-16T15:16:14.968705Z",
     "start_time": "2025-04-16T15:16:14.893450Z"
    }
   },
   "cell_type": "code",
   "source": [
    "# Входные образы (2 паттерна по 9 бит)\n",
    "patterns = torch.tensor([\n",
    "    [1, 1, 1,\n",
    "     -1, -1, -1,\n",
    "     1, 1, 1],\n",
    "\n",
    "    [1, -1, 1,\n",
    "     1, -1, 1,\n",
    "     1, -1, 1]\n",
    "], dtype=torch.float32)\n",
    "\n",
    "net = HopfieldNet(size=9)\n",
    "net.train_patterns(patterns)\n",
    "\n",
    "# Искажённый образ\n",
    "test_input = torch.tensor([1, 1, -1, -1, -1, -1, 1, -1, 1], dtype=torch.float32)\n",
    "output = net.recall(test_input)\n",
    "\n",
    "fig, axs = plt.subplots(1, 2, figsize=(9, 3))\n",
    "plot_pattern(test_input, 'Input', axs[0], 3)\n",
    "plot_pattern(output, 'Output', axs[1], 3)\n",
    "plt.tight_layout()\n",
    "plt.show()"
   ],
   "id": "855d6fa9624850fb",
   "outputs": [
    {
     "data": {
      "text/plain": [
       "<Figure size 900x300 with 2 Axes>"
      ],
      "image/png": "[encoded data removed]"
     },
     "metadata": {},
     "output_type": "display_data"
    }
   ],
   "execution_count": 555
  },
  {
   "metadata": {
    "ExecuteTime": {
     "end_time": "2025-04-16T15:16:14.986557Z",
     "start_time": "2025-04-16T15:16:14.982553Z"
    }
   },
   "cell_type": "code",
   "source": [
    "43\n",
    "108\n",
    "555\n",
    "14\n",
    "33"
   ],
   "id": "9c94b2201bb4e422",
   "outputs": [
    {
     "data": {
      "text/plain": [
       "33"
      ]
     },
     "execution_count": 556,
     "metadata": {},
     "output_type": "execute_result"
    }
   ],
   "execution_count": 556
  },
  {
   "metadata": {
    "ExecuteTime": {
     "end_time": "2025-04-16T15:16:15.051868Z",
     "start_time": "2025-04-16T15:16:15.046182Z"
    }
   },
   "cell_type": "code",
   "source": "patterns = [list(map(int,  train_images[i])) for i in [43, 108, 555]]",
   "id": "fe8d068b59cd1207",
   "outputs": [],
   "execution_count": 557
  },
  {
   "metadata": {
    "ExecuteTime": {
     "end_time": "2025-04-16T15:16:15.134906Z",
     "start_time": "2025-04-16T15:16:15.066242Z"
    }
   },
   "cell_type": "code",
   "source": [
    "fig, axs = plt.subplots(1, 3, figsize=(9, 3))\n",
    "plot_pattern(train_images[43], 'Input', axs[0], 28)\n",
    "plot_pattern(train_images[108], 'Input', axs[1], 28)\n",
    "plot_pattern(train_images[555], 'Input', axs[2], 28)\n",
    "plt.tight_layout()\n",
    "plt.show()"
   ],
   "id": "6bff9f90944ceb21",
   "outputs": [
    {
     "data": {
      "text/plain": [
       "<Figure size 900x300 with 3 Axes>"
      ],
      "image/png": "[encoded data removed]"
     },
     "metadata": {},
     "output_type": "display_data"
    }
   ],
   "execution_count": 558
  },
  {
   "metadata": {
    "ExecuteTime": {
     "end_time": "2025-04-16T15:16:15.155803Z",
     "start_time": "2025-04-16T15:16:15.152833Z"
    }
   },
   "cell_type": "code",
   "source": "133, 10, 60",
   "id": "974ccbfb7779d495",
   "outputs": [
    {
     "data": {
      "text/plain": [
       "(133, 10, 60)"
      ]
     },
     "execution_count": 559,
     "metadata": {},
     "output_type": "execute_result"
    }
   ],
   "execution_count": 559
  },
  {
   "metadata": {
    "ExecuteTime": {
     "end_time": "2025-04-16T15:16:15.333290Z",
     "start_time": "2025-04-16T15:16:15.176247Z"
    }
   },
   "cell_type": "code",
   "source": [
    "patterns = torch.tensor(patterns, dtype=torch.float32)\n",
    "\n",
    "net = HopfieldNet(size=784)\n",
    "net.train_patterns(patterns)\n",
    "\n",
    "test_input = train_images[43]\n",
    "output = net.recall(test_input)\n",
    "\n",
    "fig, axs = plt.subplots(1, 2, figsize=(9, 3))\n",
    "plot_pattern(test_input, 'Input', axs[0], 28)\n",
    "plot_pattern(output, 'Output', axs[1], 28)\n",
    "plt.tight_layout()\n",
    "plt.show()"
   ],
   "id": "cdec2538ab5ef4bb",
   "outputs": [
    {
     "data": {
      "text/plain": [
       "<Figure size 900x300 with 2 Axes>"
      ],
      "image/png": "[encoded data removed]"
     },
     "metadata": {},
     "output_type": "display_data"
    }
   ],
   "execution_count": 560
  }
 ],
 "metadata": {
  "kernelspec": {
   "display_name": "Python 3",
   "language": "python",
   "name": "python3"
  },
  "language_info": {
   "codemirror_mode": {
    "name": "ipython",
    "version": 2
   },
   "file_extension": ".py",
   "mimetype": "text/x-python",
   "name": "python",
   "nbconvert_exporter": "python",
   "pygments_lexer": "ipython2",
   "version": "2.7.6"
  }
 },
 "nbformat": 4,
 "nbformat_minor": 5
}
