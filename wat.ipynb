{
 "cells": [
  {
   "metadata": {
    "ExecuteTime": {
     "end_time": "2025-04-16T16:13:44.682234Z",
     "start_time": "2025-04-16T16:13:44.672134Z"
    }
   },
   "cell_type": "code",
   "source": [
    "import idx2numpy\n",
    "import numpy as np\n",
    "\n",
    "import torch\n",
    "\n",
    "import matplotlib.pyplot as plt"
   ],
   "id": "42b29227cdafce91",
   "outputs": [],
   "execution_count": 25
  },
  {
   "metadata": {
    "ExecuteTime": {
     "end_time": "2025-04-16T16:13:44.815884Z",
     "start_time": "2025-04-16T16:13:44.703707Z"
    }
   },
   "cell_type": "code",
   "source": [
    "x_train = np.array(idx2numpy.convert_from_file('./data/emnist/emnist-letters-train-images-idx3-ubyte')).astype('float32')\n",
    "\n",
    "patterns = np.array([x_train[i] for i in [43, 108, 555,]])\n",
    "new = np.array([x_train[i] for i in [133, 10, 60,]])\n",
    "\n",
    "patterns /= 255\n",
    "new /= 255\n",
    "\n",
    "patterns = np.fliplr(patterns)\n",
    "new = np.fliplr(new)\n",
    "\n",
    "patterns = np.rot90(patterns, k=3, axes=(1, 2))\n",
    "new = np.rot90(new, k=3, axes=(1, 2))\n",
    "\n",
    "patterns = patterns.reshape(patterns.shape[0], 784)\n",
    "new = new.reshape(new.shape[0], 784)\n",
    "\n",
    "patterns = np.where(patterns > 0.5, 1, -1)\n",
    "new = np.where(new > 0.5, 1, -1)"
   ],
   "id": "bb7fdd2ba277c064",
   "outputs": [],
   "execution_count": 26
  },
  {
   "metadata": {
    "ExecuteTime": {
     "end_time": "2025-04-16T16:13:44.821733Z",
     "start_time": "2025-04-16T16:13:44.817979Z"
    }
   },
   "cell_type": "code",
   "source": [
    "def plot_pattern(pattern, title: str, ax, size):\n",
    "    ax.imshow(pattern.reshape(size, size), cmap='gray')\n",
    "    ax.set_title(title)\n",
    "    ax.axis('off')"
   ],
   "id": "4edbdf0ef527e862",
   "outputs": [],
   "execution_count": 27
  },
  {
   "metadata": {
    "ExecuteTime": {
     "end_time": "2025-04-16T16:13:45.093110Z",
     "start_time": "2025-04-16T16:13:44.835545Z"
    }
   },
   "cell_type": "code",
   "source": [
    "fig, axs = plt.subplots(2, 3, figsize=(9, 3))\n",
    "plot_pattern(patterns[0], 'P', axs[0][0], 28)\n",
    "plot_pattern(patterns[1], 'Y', axs[0][1], 28)\n",
    "plot_pattern(patterns[2], 'J', axs[0][2], 28)\n",
    "plot_pattern(new[2], 'P noisy', axs[1][0], 28)\n",
    "plot_pattern(new[0], 'Y noisy', axs[1][1], 28)\n",
    "plot_pattern(new[1], 'J noisy', axs[1][2], 28)\n",
    "plt.tight_layout()\n",
    "plt.show()"
   ],
   "id": "db9e12610a792fea",
   "outputs": [
    {
     "data": {
      "text/plain": [
       "<Figure size 900x300 with 6 Axes>"
      ],
      "image/png": "[encoded data removed]"
     },
     "metadata": {},
     "output_type": "display_data"
    }
   ],
   "execution_count": 28
  },
  {
   "metadata": {
    "ExecuteTime": {
     "end_time": "2025-04-16T16:13:45.225656Z",
     "start_time": "2025-04-16T16:13:45.106830Z"
    }
   },
   "cell_type": "code",
   "source": [
    "from PIL import Image\n",
    "\n",
    "\n",
    "def resize_image(img_np, size=(10, 10)):\n",
    "    img_pil = Image.fromarray(((img_np + 1) / 2 * 255).astype('uint8'))  # Преобразуем обратно в [0,255]\n",
    "    img_resized = img_pil.resize(size, Image.BILINEAR)  # Можно NEAREST или BILINEAR\n",
    "    img_np = np.array(img_resized).astype('float32') / 255\n",
    "    img_np = np.where(img_np > 0.5, 1, -1)\n",
    "    return img_np\n",
    "\n",
    "\n",
    "size = 12\n",
    "\n",
    "patterns_resized = np.array([resize_image(p.reshape(28, 28), size=(size, size)) for p in patterns])\n",
    "new_resized = np.array([resize_image(n.reshape(28, 28), size=(size, size)) for n in new])\n",
    "\n",
    "# Вернуть в плоский вектор\n",
    "patterns_resized = patterns_resized.reshape(len(patterns), -1)\n",
    "new_resized = new_resized.reshape(len(new), -1)\n",
    "\n",
    "# В PyTorch\n",
    "patterns_resized = torch.tensor(patterns_resized, dtype=torch.float32)\n",
    "new_resized = torch.tensor(new_resized, dtype=torch.float32)\n",
    "\n",
    "fig, axs = plt.subplots(2, 3, figsize=(9, 3))\n",
    "plot_pattern(patterns_resized[0], 'P', axs[0][0], size)\n",
    "plot_pattern(patterns_resized[1], 'Y', axs[0][1], size)\n",
    "plot_pattern(patterns_resized[2], 'J', axs[0][2], size)\n",
    "plot_pattern(new_resized[2], 'P noisy', axs[1][0], size)\n",
    "plot_pattern(new_resized[0], 'Y noisy', axs[1][1], size)\n",
    "plot_pattern(new_resized[1], 'J noisy', axs[1][2], size)\n",
    "plt.tight_layout()\n",
    "plt.show()"
   ],
   "id": "739561e778610bea",
   "outputs": [
    {
     "data": {
      "text/plain": [
       "<Figure size 900x300 with 6 Axes>"
      ],
      "image/png": "[encoded data removed]"
     },
     "metadata": {},
     "output_type": "display_data"
    }
   ],
   "execution_count": 29
  },
  {
   "metadata": {
    "ExecuteTime": {
     "end_time": "2025-04-16T16:31:53.857466Z",
     "start_time": "2025-04-16T16:31:53.851857Z"
    }
   },
   "cell_type": "code",
   "source": [
    "class HopfieldNetwork:\n",
    "    def __init__(self, size):\n",
    "        self.size = size\n",
    "        self.weights = np.zeros((size, size))\n",
    "\n",
    "    def train(self, patterns):\n",
    "        for p in patterns:\n",
    "            p = p.reshape(-1, 1)\n",
    "            self.weights += p @ p.T\n",
    "        np.fill_diagonal(self.weights, 0)  # отключаем самосвязи\n",
    "        self.weights /= len(patterns)\n",
    "\n",
    "    def sign(self, x):\n",
    "        return np.where(x >= 0, 1, -1)\n",
    "\n",
    "    def recall(self, input_pattern, steps=5):\n",
    "        s = input_pattern.copy()\n",
    "        for _ in range(steps):\n",
    "            for i in range(self.size):\n",
    "                net = np.dot(self.weights[i], s)\n",
    "                s[i] = self.sign(net)\n",
    "        return s"
   ],
   "id": "64d938453ae3846c",
   "outputs": [],
   "execution_count": 82
  },
  {
   "metadata": {
    "ExecuteTime": {
     "end_time": "2025-04-16T16:15:35.463408Z",
     "start_time": "2025-04-16T16:15:35.444237Z"
    }
   },
   "cell_type": "code",
   "source": [
    "net = HopfieldNetwork(size=size**2)\n",
    "net.train(patterns_resized)"
   ],
   "id": "8445e205f00796c",
   "outputs": [
    {
     "ename": "TypeError",
     "evalue": "only integer tensors of a single element can be converted to an index",
     "output_type": "error",
     "traceback": [
      "\u001B[1;31m---------------------------------------------------------------------------\u001B[0m",
      "\u001B[1;31mTypeError\u001B[0m                                 Traceback (most recent call last)",
      "Cell \u001B[1;32mIn[43], line 2\u001B[0m\n\u001B[0;32m      1\u001B[0m net \u001B[38;5;241m=\u001B[39m HopfieldNetwork(size\u001B[38;5;241m=\u001B[39msize\u001B[38;5;241m*\u001B[39m\u001B[38;5;241m*\u001B[39m\u001B[38;5;241m2\u001B[39m)\n\u001B[1;32m----> 2\u001B[0m net\u001B[38;5;241m.\u001B[39mtrain(patterns_resized)\n",
      "Cell \u001B[1;32mIn[42], line 9\u001B[0m, in \u001B[0;36mHopfieldNetwork.train\u001B[1;34m(self, patterns)\u001B[0m\n\u001B[0;32m      7\u001B[0m \u001B[38;5;28;01mfor\u001B[39;00m p \u001B[38;5;129;01min\u001B[39;00m patterns:\n\u001B[0;32m      8\u001B[0m     p \u001B[38;5;241m=\u001B[39m p\u001B[38;5;241m.\u001B[39mreshape(\u001B[38;5;241m-\u001B[39m\u001B[38;5;241m1\u001B[39m, \u001B[38;5;241m1\u001B[39m)\n\u001B[1;32m----> 9\u001B[0m     \u001B[38;5;28mself\u001B[39m\u001B[38;5;241m.\u001B[39mweights \u001B[38;5;241m=\u001B[39m np\u001B[38;5;241m.\u001B[39mconcatenate(\u001B[38;5;28mself\u001B[39m\u001B[38;5;241m.\u001B[39mweights, p \u001B[38;5;241m@\u001B[39m p\u001B[38;5;241m.\u001B[39mT)\n\u001B[0;32m     10\u001B[0m np\u001B[38;5;241m.\u001B[39mfill_diagonal(\u001B[38;5;28mself\u001B[39m\u001B[38;5;241m.\u001B[39mweights, \u001B[38;5;241m0\u001B[39m)  \u001B[38;5;66;03m# отключаем самосвязи\u001B[39;00m\n\u001B[0;32m     11\u001B[0m \u001B[38;5;28mself\u001B[39m\u001B[38;5;241m.\u001B[39mweights \u001B[38;5;241m/\u001B[39m\u001B[38;5;241m=\u001B[39m \u001B[38;5;28mlen\u001B[39m(patterns[\u001B[38;5;241m0\u001B[39m])\n",
      "\u001B[1;31mTypeError\u001B[0m: only integer tensors of a single element can be converted to an index"
     ]
    }
   ],
   "execution_count": 43
  },
  {
   "metadata": {
    "ExecuteTime": {
     "end_time": "2025-04-16T16:13:45.287931Z",
     "start_time": "2025-04-16T16:13:45.276156Z"
    }
   },
   "cell_type": "code",
   "source": [
    "input = new_resized[0]\n",
    "output = net.recall(input)"
   ],
   "id": "83b93ca258772dbf",
   "outputs": [],
   "execution_count": 32
  },
  {
   "metadata": {
    "ExecuteTime": {
     "end_time": "2025-04-16T16:13:45.356969Z",
     "start_time": "2025-04-16T16:13:45.303026Z"
    }
   },
   "cell_type": "code",
   "source": [
    "_, axs = plt.subplots(1, 2, figsize=(9, 3))\n",
    "plot_pattern(input, 'Input', axs[0], size)\n",
    "plot_pattern(output, 'Output', axs[1], size)\n",
    "plt.tight_layout()\n",
    "plt.show()"
   ],
   "id": "f4651cd3ce3c53cb",
   "outputs": [
    {
     "data": {
      "text/plain": [
       "<Figure size 900x300 with 2 Axes>"
      ],
      "image/png": "[encoded data removed]"
     },
     "metadata": {},
     "output_type": "display_data"
    }
   ],
   "execution_count": 33
  },
  {
   "metadata": {
    "ExecuteTime": {
     "end_time": "2025-04-16T16:33:07.280463Z",
     "start_time": "2025-04-16T16:33:07.201109Z"
    }
   },
   "cell_type": "code",
   "source": [
    "X = np.array([\n",
    "    -1, -1, -1, -1, -1, -1, -1, -1, -1, -1,\n",
    "    -1,  1, -1, -1, -1, -1, -1, -1,  1, -1,\n",
    "    -1, -1,  1, -1, -1, -1, -1,  1, -1, -1,\n",
    "    -1, -1, -1,  1, -1, -1,  1, -1, -1, -1,\n",
    "    -1, -1, -1, -1,  1,  1, -1, -1, -1, -1,\n",
    "    -1, -1, -1, -1,  1,  1, -1, -1, -1, -1,\n",
    "    -1, -1, -1,  1, -1, -1,  1, -1, -1, -1,\n",
    "    -1, -1,  1, -1, -1, -1, -1,  1, -1, -1,\n",
    "    -1,  1, -1, -1, -1, -1, -1, -1,  1, -1,\n",
    "    -1, -1, -1, -1, -1, -1, -1, -1, -1, -1\n",
    "])\n",
    "Y = np.array([\n",
    "    -1, -1, -1, -1, -1, -1, -1, -1, -1, -1,\n",
    "    -1, -1,  1, -1, -1, -1, -1, -1,  1, -1,\n",
    "    -1, -1, -1,  1, -1, -1, -1,  1, -1, -1,\n",
    "    -1, -1, -1, -1,  1, -1,  1, -1, -1, -1,\n",
    "    -1, -1, -1, -1, -1,  1, -1, -1, -1, -1,\n",
    "    -1, -1, -1, -1, -1,  1, -1, -1, -1, -1,\n",
    "    -1, -1, -1, -1, -1,  1, -1, -1, -1, -1,\n",
    "    -1, -1, -1, -1, -1,  1, -1, -1, -1, -1,\n",
    "    -1, -1, -1, -1, -1,  1, -1, -1, -1, -1,\n",
    "    -1, -1, -1, -1, -1,  1, -1, -1, -1, -1,\n",
    "])\n",
    "Z = np.array([\n",
    "    -1, -1, -1, -1, -1, -1, -1, -1, -1, -1,\n",
    "    -1,  1,  1,  1,  1,  1,  1,  1, -1, -1,\n",
    "    -1, -1, -1, -1, -1, -1,  1, -1, -1, -1,\n",
    "    -1, -1, -1, -1, -1,  1, -1, -1, -1, -1,\n",
    "    -1, -1, -1, -1,  1, -1, -1, -1, -1, -1,\n",
    "    -1, -1, -1,  1, -1, -1, -1, -1, -1, -1,\n",
    "    -1, -1,  1, -1, -1, -1, -1, -1, -1, -1,\n",
    "    -1,  1, -1, -1, -1, -1, -1, -1, -1, -1,\n",
    "    -1,  1,  1,  1,  1,  1,  1,  1,  1, -1,\n",
    "    -1, -1, -1, -1, -1, -1, -1, -1, -1, -1,\n",
    "])\n",
    "\n",
    "fig, axs = plt.subplots(1, 3, figsize=(9, 3))\n",
    "plot_pattern(X, 'X', axs[0], 10)\n",
    "plot_pattern(Y, 'Y', axs[1], 10)\n",
    "plot_pattern(Z, 'Z', axs[2], 10)\n",
    "plt.tight_layout()\n",
    "plt.show()"
   ],
   "id": "59f8fafb4d96a385",
   "outputs": [
    {
     "data": {
      "text/plain": [
       "<Figure size 900x300 with 3 Axes>"
      ],
      "image/png": "[encoded data removed]"
     },
     "metadata": {},
     "output_type": "display_data"
    }
   ],
   "execution_count": 86
  },
  {
   "metadata": {
    "ExecuteTime": {
     "end_time": "2025-04-16T16:33:07.461725Z",
     "start_time": "2025-04-16T16:33:07.383924Z"
    }
   },
   "cell_type": "code",
   "source": [
    "noisy_X = np.array([\n",
    "    -1, -1, -1, -1, -1, -1, -1, -1, -1, -1,\n",
    "    -1,  1, -1, -1, -1, -1, -1, -1, -1, -1,\n",
    "    -1, -1,  1,  1, -1, -1, -1,  1,  1,  1,\n",
    "    -1, -1, -1, -1,  1, -1,  1, -1, -1, -1,\n",
    "    -1, -1, -1, -1, -1,  1, -1, -1, -1, -1,\n",
    "    -1, -1, -1, -1,  1,  1, -1, -1, -1, -1,\n",
    "    -1, -1, -1,  1, -1, -1,  1, -1, -1, -1,\n",
    "    -1, -1,  1, -1, -1, -1, -1,  1, -1, -1,\n",
    "    -1,  1, -1, -1, -1, -1, -1, -1,  1, -1,\n",
    "    -1, -1, -1, -1, -1, -1, -1, -1, -1, -1\n",
    "])\n",
    "noisy_Y = np.array([\n",
    "    -1, -1, -1, -1, -1, -1, -1, -1, -1, -1,\n",
    "    -1,  1, -1, -1, -1, -1, -1, -1,  1, -1,\n",
    "    -1, -1,  1,  1, -1, -1, -1,  1, -1, -1,\n",
    "    -1, -1, -1, -1,  1, -1,  1, -1, -1, -1,\n",
    "    -1, -1, -1, -1,  1,  1, -1, -1, -1, -1,\n",
    "    -1, -1, -1, -1, -1,  1, -1, -1, -1, -1,\n",
    "    -1, -1, -1, -1, -1,  1, -1, -1, -1, -1,\n",
    "    -1, -1, -1, -1, -1,  1, -1, -1, -1, -1,\n",
    "    -1, -1, -1, -1,  1, -1, -1, -1, -1, -1,\n",
    "    -1, -1, -1, -1,  1, -1, -1, -1, -1, -1,\n",
    "])\n",
    "noisy_Z = np.array([\n",
    "    -1, -1, -1, -1, -1, -1, -1, -1, -1, -1,\n",
    "    -1,  1,  1, -1, -1, -1, -1, -1, -1, -1,\n",
    "    -1, -1, -1,  1,  1,  1,  1,  1, -1, -1,\n",
    "    -1, -1, -1, -1, -1, -1,  1, -1, -1, -1,\n",
    "    -1, -1, -1, -1,  1, -1, -1, -1, -1, -1,\n",
    "    -1, -1, -1,  1, -1, -1, -1, -1, -1, -1,\n",
    "    -1, -1,  1, -1, -1, -1, -1, -1, -1, -1,\n",
    "    -1,  1,  1, -1, -1, -1, -1, -1, -1, -1,\n",
    "    -1, -1, -1,  1,  1,  1,  1,  1,  1, -1,\n",
    "    -1, -1, -1, -1, -1, -1, -1, -1, -1, -1,\n",
    "])\n",
    "fig, axs = plt.subplots(1, 3, figsize=(9, 3))\n",
    "plot_pattern(noisy_X, 'Noisy X', axs[0], 10)\n",
    "plot_pattern(noisy_Y, 'Noisy Y', axs[1], 10)\n",
    "plot_pattern(noisy_Z, 'Noisy Z', axs[2], 10)\n",
    "plt.tight_layout()\n",
    "plt.show()"
   ],
   "id": "559ca25e9bd16396",
   "outputs": [
    {
     "data": {
      "text/plain": [
       "<Figure size 900x300 with 3 Axes>"
      ],
      "image/png": "[encoded data removed]"
     },
     "metadata": {},
     "output_type": "display_data"
    }
   ],
   "execution_count": 87
  },
  {
   "metadata": {
    "ExecuteTime": {
     "end_time": "2025-04-16T16:33:08.106973Z",
     "start_time": "2025-04-16T16:33:08.055829Z"
    }
   },
   "cell_type": "code",
   "source": [
    "net = HopfieldNetwork(100)\n",
    "net.train([X, Y, Z])\n",
    "\n",
    "input = noisy_Y\n",
    "output = net.recall(input, steps=3)\n",
    "\n",
    "_, axs = plt.subplots(1, 2, figsize=(9, 3))\n",
    "plot_pattern(input, 'Input', axs[0], 10)\n",
    "plot_pattern(output, 'Output', axs[1], 10)\n",
    "plt.tight_layout()\n",
    "plt.show()"
   ],
   "id": "ee3575f91d9b8575",
   "outputs": [
    {
     "data": {
      "text/plain": [
       "<Figure size 900x300 with 2 Axes>"
      ],
      "image/png": "[encoded data removed]"
     },
     "metadata": {},
     "output_type": "display_data"
    }
   ],
   "execution_count": 88
  },
  {
   "metadata": {
    "ExecuteTime": {
     "end_time": "2025-04-16T16:33:46.703526Z",
     "start_time": "2025-04-16T16:33:46.631981Z"
    }
   },
   "cell_type": "code",
   "source": [
    "patterns = np.array([\n",
    "    [ 1,  1, -1,  1,  1,\n",
    "      1,  1, -1,  1,  1,\n",
    "      1,  1, -1,  1,  1,\n",
    "      1,  1, -1,  1,  1,\n",
    "      1,  1, -1,  1,  1,],\n",
    "\n",
    "    [ 1,  1,  1,  1,  1,\n",
    "      1,  1,  1,  1,  1,\n",
    "     -1, -1, -1, -1, -1,\n",
    "      1,  1,  1,  1,  1,\n",
    "      1,  1,  1,  1,  1,],\n",
    "\n",
    "    [ 1,  1,  1,  1, -1,\n",
    "      1,  1,  1, -1,  1,\n",
    "      1,  1, -1,  1,  1,\n",
    "      1, -1,  1,  1,  1,\n",
    "     -1,  1,  1,  1,  1,],\n",
    "])\n",
    "\n",
    "fig, axs = plt.subplots(1, 3, figsize=(9, 3))\n",
    "plot_pattern(patterns[0], '1', axs[0], 5)\n",
    "plot_pattern(patterns[1], '2', axs[1], 5)\n",
    "plot_pattern(patterns[2], '3', axs[2], 5)\n",
    "plt.tight_layout()\n",
    "plt.show()"
   ],
   "id": "cc53059f65b715d0",
   "outputs": [
    {
     "data": {
      "text/plain": [
       "<Figure size 900x300 with 3 Axes>"
      ],
      "image/png": "[encoded data removed]"
     },
     "metadata": {},
     "output_type": "display_data"
    }
   ],
   "execution_count": 89
  },
  {
   "metadata": {
    "ExecuteTime": {
     "end_time": "2025-04-16T16:34:58.898777Z",
     "start_time": "2025-04-16T16:34:58.850380Z"
    }
   },
   "cell_type": "code",
   "source": [
    "net = HopfieldNetwork(25)\n",
    "net.train(patterns)\n",
    "\n",
    "input = np.array([\n",
    "      1,  1, -1,  1,  1,\n",
    "      1,  1, -1,  1,  1,\n",
    "      1, -1, -1, -1,  1,\n",
    "      1,  1, -1,  1,  1,\n",
    "      1,  1, -1,  1,  1,\n",
    "])\n",
    "output = net.recall(input, steps=5)\n",
    "\n",
    "_, axs = plt.subplots(1, 2, figsize=(9, 3))\n",
    "plot_pattern(input, 'Input', axs[0], 5)\n",
    "plot_pattern(output, 'Output', axs[1], 5)\n",
    "plt.tight_layout()\n",
    "plt.show()"
   ],
   "id": "92946d32c8c07067",
   "outputs": [
    {
     "data": {
      "text/plain": [
       "<Figure size 900x300 with 2 Axes>"
      ],
      "image/png": "[encoded data removed]"
     },
     "metadata": {},
     "output_type": "display_data"
    }
   ],
   "execution_count": 104
  },
  {
   "metadata": {},
   "cell_type": "code",
   "outputs": [],
   "execution_count": null,
   "source": "",
   "id": "455486de83f3dc59"
  }
 ],
 "metadata": {
  "kernelspec": {
   "display_name": "Python 3",
   "language": "python",
   "name": "python3"
  },
  "language_info": {
   "codemirror_mode": {
    "name": "ipython",
    "version": 2
   },
   "file_extension": ".py",
   "mimetype": "text/x-python",
   "name": "python",
   "nbconvert_exporter": "python",
   "pygments_lexer": "ipython2",
   "version": "2.7.6"
  }
 },
 "nbformat": 4,
 "nbformat_minor": 5
}
